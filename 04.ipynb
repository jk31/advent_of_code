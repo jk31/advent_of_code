{
 "cells": [
  {
   "cell_type": "markdown",
   "metadata": {},
   "source": [
    "# Day 4\n",
    "\n",
    "https://adventofcode.com/2020/day/4"
   ]
  },
  {
   "cell_type": "markdown",
   "metadata": {},
   "source": [
    "## Part 1\n",
    "\n",
    "Data Source: https://adventofcode.com/2020/day/4/input"
   ]
  },
  {
   "cell_type": "markdown",
   "metadata": {},
   "source": [
    "Load data:"
   ]
  },
  {
   "cell_type": "code",
   "execution_count": 1,
   "metadata": {},
   "outputs": [
    {
     "name": "stdout",
     "output_type": "stream",
     "text": [
      "286\n"
     ]
    }
   ],
   "source": [
    "with open(\"data/04.txt\") as f:\n",
    "    data = f.read().split(\"\\n\\n\")\n",
    "    \n",
    "print(len(data))"
   ]
  },
  {
   "cell_type": "code",
   "execution_count": 3,
   "metadata": {},
   "outputs": [
    {
     "data": {
      "text/plain": [
       "['byr:1971 eyr:2039 hgt:172in pid:170cm hcl:17106b iyr:2012 ecl:gry cid:339',\n",
       " 'hgt:161cm eyr:2027 ecl:grn iyr:2011 hcl:#a97842 byr:1977 pid:910468396',\n",
       " 'cid:257 ecl:gry hgt:186cm iyr:2012 byr:1941 eyr:2029 pid:108935675 hcl:#cfa07d',\n",
       " 'hgt:165in hcl:#cfa07d eyr:2035 pid:82570731 byr:1973 cid:74 ecl:xry',\n",
       " 'eyr:2020 cid:105 iyr:2012 pid:947726115 hcl:#ceb3a1 ecl:grn byr:1966 hgt:151cm']"
      ]
     },
     "execution_count": 3,
     "metadata": {},
     "output_type": "execute_result"
    }
   ],
   "source": [
    "data = [i.replace(\"\\n\", \" \") for i in data]\n",
    "data = [i.split(\" \") for i in data]\n",
    "\n",
    "data_clean = []\n",
    "\n",
    "for passport in data:\n",
    "    data_clean.append({i.split(\":\")[0]: i.split(\":\")[1] for i in passport})"
   ]
  },
  {
   "cell_type": "markdown",
   "metadata": {},
   "source": [
    "Task: Check all passports, the only optional field is \"cid\"."
   ]
  },
  {
   "cell_type": "code",
   "execution_count": 7,
   "metadata": {},
   "outputs": [
    {
     "data": {
      "text/plain": [
       "242"
      ]
     },
     "execution_count": 7,
     "metadata": {},
     "output_type": "execute_result"
    }
   ],
   "source": [
    "sum([all(field in passport.keys() for field in [\"byr\", \"iyr\", \"eyr\", \"hgt\", \"hcl\", \"ecl\", \"pid\"]) for passport in data_clean])"
   ]
  },
  {
   "cell_type": "markdown",
   "metadata": {},
   "source": [
    "## Part 2"
   ]
  },
  {
   "cell_type": "code",
   "execution_count": 112,
   "metadata": {},
   "outputs": [
    {
     "data": {
      "text/plain": [
       "186"
      ]
     },
     "execution_count": 112,
     "metadata": {},
     "output_type": "execute_result"
    }
   ],
   "source": [
    "first_condition = [True for i in range(len(data_clean))]\n",
    "second_condition = [True for i in range(len(data_clean))]\n",
    "\n",
    "for num, passport in enumerate(data_clean):\n",
    "    for field in [\"byr\", \"iyr\", \"eyr\", \"hgt\", \"hcl\", \"ecl\", \"pid\"]:\n",
    "        if field not in passport.keys():\n",
    "            first_condition[num] = False\n",
    "    for field in passport.keys():\n",
    "        if not validator(passport, field):\n",
    "            second_condition[num] = False\n",
    "            \n",
    "sum([i*j for i, j in zip(first_condition, second_condition)])"
   ]
  },
  {
   "cell_type": "code",
   "execution_count": 108,
   "metadata": {},
   "outputs": [],
   "source": [
    "a = [validator(passport, field) for field in passport.keys() for passport in data_clean if first_check(passport)]"
   ]
  },
  {
   "cell_type": "code",
   "execution_count": 109,
   "metadata": {},
   "outputs": [
    {
     "data": {
      "text/plain": [
       "242"
      ]
     },
     "execution_count": 109,
     "metadata": {},
     "output_type": "execute_result"
    }
   ],
   "source": [
    "after_first_check = [passport for passport in data_clean if first_check(passport)]\n",
    "len(after_first_check)"
   ]
  },
  {
   "cell_type": "code",
   "execution_count": 111,
   "metadata": {},
   "outputs": [
    {
     "data": {
      "text/plain": [
       "186"
      ]
     },
     "execution_count": 111,
     "metadata": {},
     "output_type": "execute_result"
    }
   ],
   "source": [
    "a = sum([all([validator(passport, field) for field in passport.keys()]) for passport in after_first_check])\n",
    "a"
   ]
  }
 ],
 "metadata": {
  "kernelspec": {
   "display_name": "Python 3",
   "language": "python",
   "name": "python3"
  },
  "language_info": {
   "codemirror_mode": {
    "name": "ipython",
    "version": 3
   },
   "file_extension": ".py",
   "mimetype": "text/x-python",
   "name": "python",
   "nbconvert_exporter": "python",
   "pygments_lexer": "ipython3",
   "version": "3.8.5"
  }
 },
 "nbformat": 4,
 "nbformat_minor": 4
}
