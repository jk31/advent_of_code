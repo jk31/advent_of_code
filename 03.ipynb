{
 "cells": [
  {
   "cell_type": "markdown",
   "metadata": {},
   "source": [
    "# Day 3\n",
    "\n",
    "https://adventofcode.com/2020/day/2"
   ]
  },
  {
   "cell_type": "markdown",
   "metadata": {},
   "source": [
    "## Part 1\n",
    "\n",
    "Data Source: https://adventofcode.com/2020/day/3"
   ]
  },
  {
   "cell_type": "markdown",
   "metadata": {},
   "source": [
    "Load data:"
   ]
  },
  {
   "cell_type": "code",
   "execution_count": 1,
   "metadata": {},
   "outputs": [
    {
     "name": "stdout",
     "output_type": "stream",
     "text": [
      "323\n"
     ]
    }
   ],
   "source": [
    "with open(\"data/03.txt\") as f:\n",
    "    data = f.read().splitlines()\n",
    "    \n",
    "print(len(data))"
   ]
  },
  {
   "cell_type": "code",
   "execution_count": 2,
   "metadata": {},
   "outputs": [
    {
     "data": {
      "text/plain": [
       "['..#......###....#...##..#.#....',\n",
       " '.#.#.....#.##.....###...##...##',\n",
       " '..#.#..#...........#.#..#......',\n",
       " '..#......#..........###........',\n",
       " '...#..###..##.#..#.......##..##',\n",
       " '......#.#.##...#...#....###....',\n",
       " '..........##.....##..##......#.',\n",
       " '......#...........#............',\n",
       " '#....#..........#..............',\n",
       " '.#........##.............###.##']"
      ]
     },
     "execution_count": 2,
     "metadata": {},
     "output_type": "execute_result"
    }
   ],
   "source": [
    "data[0:10]"
   ]
  },
  {
   "cell_type": "markdown",
   "metadata": {},
   "source": [
    "For each step down, we go three to the right.\n",
    "\n",
    "Therefore the number of characters in each row has to be atleast three times higher than the number of the rows."
   ]
  },
  {
   "cell_type": "code",
   "execution_count": 3,
   "metadata": {},
   "outputs": [
    {
     "data": {
      "text/plain": [
       "969"
      ]
     },
     "execution_count": 3,
     "metadata": {},
     "output_type": "execute_result"
    }
   ],
   "source": [
    "3 * len(data)"
   ]
  },
  {
   "cell_type": "markdown",
   "metadata": {},
   "source": [
    "As we have `len(data[0])` characters in each row, we have to expand the rows."
   ]
  },
  {
   "cell_type": "code",
   "execution_count": 4,
   "metadata": {},
   "outputs": [
    {
     "data": {
      "text/plain": [
       "31"
      ]
     },
     "execution_count": 4,
     "metadata": {},
     "output_type": "execute_result"
    }
   ],
   "source": [
    "len(data[0])"
   ]
  },
  {
   "cell_type": "code",
   "execution_count": 5,
   "metadata": {},
   "outputs": [
    {
     "data": {
      "text/plain": [
       "31.258064516129032"
      ]
     },
     "execution_count": 5,
     "metadata": {},
     "output_type": "execute_result"
    }
   ],
   "source": [
    "(3 * len(data)) / len(data[0])"
   ]
  },
  {
   "cell_type": "code",
   "execution_count": 6,
   "metadata": {},
   "outputs": [],
   "source": [
    "data_wide = [i * 32 for i in data]"
   ]
  },
  {
   "cell_type": "code",
   "execution_count": 7,
   "metadata": {},
   "outputs": [
    {
     "name": "stdout",
     "output_type": "stream",
     "text": [
      "262\n"
     ]
    }
   ],
   "source": [
    "count = 0\n",
    "\n",
    "for num, row in enumerate(data_wide):\n",
    "    position = num * 3\n",
    "    if row[position] == \"#\":\n",
    "        count += 1\n",
    "        \n",
    "print(count)"
   ]
  },
  {
   "cell_type": "markdown",
   "metadata": {},
   "source": [
    "## Part 2\n",
    "\n",
    "Let's make it more generalized."
   ]
  },
  {
   "cell_type": "code",
   "execution_count": 8,
   "metadata": {},
   "outputs": [
    {
     "data": {
      "text/plain": [
       "262"
      ]
     },
     "execution_count": 8,
     "metadata": {},
     "output_type": "execute_result"
    }
   ],
   "source": [
    "import math\n",
    "\n",
    "def tree_encounter(data, right, down):\n",
    "    a = math.ceil(len(data) / down)\n",
    "    b = math.ceil((right * a) / len(data[0]))\n",
    "    \n",
    "    data_wide = [i * b for i in data]\n",
    "    \n",
    "    count = 0\n",
    "    depth = -1\n",
    "    \n",
    "    for num, row in enumerate(data_wide):\n",
    "        if num % down == 0:\n",
    "            depth += 1\n",
    "            position = depth * right\n",
    "            if row[position] == \"#\":\n",
    "                count += 1\n",
    "    \n",
    "    return count\n",
    "             \n",
    "tree_encounter(data, 3, 1)"
   ]
  },
  {
   "cell_type": "code",
   "execution_count": 9,
   "metadata": {},
   "outputs": [
    {
     "data": {
      "text/plain": [
       "2698900776"
      ]
     },
     "execution_count": 9,
     "metadata": {},
     "output_type": "execute_result"
    }
   ],
   "source": [
    "# Right 1, down 1.\n",
    "# Right 3, down 1. (This is the slope you already checked.)\n",
    "# Right 5, down 1.\n",
    "# Right 7, down 1.\n",
    "# Right 1, down 2.\n",
    "\n",
    "trees = [tree_encounter(data, 1, 1), \n",
    "         tree_encounter(data, 3, 1), \n",
    "         tree_encounter(data, 5, 1), \n",
    "         tree_encounter(data, 7, 1), \n",
    "         tree_encounter(data, 1, 2)]\n",
    "\n",
    "math.prod(trees)"
   ]
  }
 ],
 "metadata": {
  "kernelspec": {
   "display_name": "Python 3",
   "language": "python",
   "name": "python3"
  },
  "language_info": {
   "codemirror_mode": {
    "name": "ipython",
    "version": 3
   },
   "file_extension": ".py",
   "mimetype": "text/x-python",
   "name": "python",
   "nbconvert_exporter": "python",
   "pygments_lexer": "ipython3",
   "version": "3.8.5"
  }
 },
 "nbformat": 4,
 "nbformat_minor": 4
}
