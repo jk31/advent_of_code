{
 "cells": [
  {
   "cell_type": "markdown",
   "metadata": {},
   "source": [
    "# Day 2\n",
    "\n",
    "https://adventofcode.com/2020/day/2"
   ]
  },
  {
   "cell_type": "markdown",
   "metadata": {},
   "source": [
    "## Part 1\n",
    "\n",
    "Data Source: https://adventofcode.com/2020/day/2/input"
   ]
  },
  {
   "cell_type": "markdown",
   "metadata": {},
   "source": [
    "Load data:"
   ]
  },
  {
   "cell_type": "code",
   "execution_count": 1,
   "metadata": {},
   "outputs": [
    {
     "name": "stdout",
     "output_type": "stream",
     "text": [
      "1000\n"
     ]
    }
   ],
   "source": [
    "with open(\"data/02.txt\") as f:\n",
    "    data = f.read().splitlines()\n",
    "    \n",
    "print(len(data))"
   ]
  },
  {
   "cell_type": "code",
   "execution_count": 2,
   "metadata": {},
   "outputs": [
    {
     "data": {
      "text/plain": [
       "['4-5 t: ftttttrvts',\n",
       " '7-8 k: kkkkkkkf',\n",
       " '4-6 k: gqjkkk',\n",
       " '1-2 t: rttb',\n",
       " '7-10 z: gzjtmtcrzv']"
      ]
     },
     "execution_count": 2,
     "metadata": {},
     "output_type": "execute_result"
    }
   ],
   "source": [
    "data[:5]"
   ]
  },
  {
   "cell_type": "code",
   "execution_count": 3,
   "metadata": {},
   "outputs": [],
   "source": [
    "def policy_check_1(line):\n",
    "    \n",
    "    policy, password = line.split(\": \")\n",
    "    policy_restrictions, policy_letter = policy.split(\" \")\n",
    "    policy_min, policy_max = policy_restrictions.split(\"-\")\n",
    "    \n",
    "    occ = password.count(policy_letter)\n",
    "    \n",
    "    return occ >= int(policy_min) and occ <= int(policy_max)"
   ]
  },
  {
   "cell_type": "code",
   "execution_count": 4,
   "metadata": {},
   "outputs": [
    {
     "name": "stdout",
     "output_type": "stream",
     "text": [
      "560\n"
     ]
    }
   ],
   "source": [
    "count = 0\n",
    "\n",
    "for line in data:\n",
    "    if policy_check_1(line):\n",
    "        count += 1\n",
    "        \n",
    "print(count)"
   ]
  },
  {
   "cell_type": "markdown",
   "metadata": {},
   "source": [
    "## Part 2"
   ]
  },
  {
   "cell_type": "code",
   "execution_count": 5,
   "metadata": {},
   "outputs": [],
   "source": [
    "def policy_check_2(line):\n",
    "    \n",
    "    policy, password = line.split(\": \")\n",
    "    policy_restrictions, policy_letter = policy.split(\" \")\n",
    "    policy_first, policy_second = policy_restrictions.split(\"-\")\n",
    "    \n",
    "    return (password[int(policy_first)-1] == policy_letter) ^ (password[int(policy_second)-1] == policy_letter)"
   ]
  },
  {
   "cell_type": "code",
   "execution_count": 6,
   "metadata": {},
   "outputs": [
    {
     "name": "stdout",
     "output_type": "stream",
     "text": [
      "303\n"
     ]
    }
   ],
   "source": [
    "count = 0\n",
    "\n",
    "for line in data:\n",
    "    if policy_check_2(line):\n",
    "        count += 1\n",
    "        \n",
    "print(count)"
   ]
  }
 ],
 "metadata": {
  "kernelspec": {
   "display_name": "Python 3",
   "language": "python",
   "name": "python3"
  },
  "language_info": {
   "codemirror_mode": {
    "name": "ipython",
    "version": 3
   },
   "file_extension": ".py",
   "mimetype": "text/x-python",
   "name": "python",
   "nbconvert_exporter": "python",
   "pygments_lexer": "ipython3",
   "version": "3.8.5"
  }
 },
 "nbformat": 4,
 "nbformat_minor": 4
}
