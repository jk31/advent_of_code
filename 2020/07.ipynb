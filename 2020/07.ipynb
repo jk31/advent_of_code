{
 "cells": [
  {
   "cell_type": "markdown",
   "metadata": {},
   "source": [
    "# Day 07\n",
    "\n",
    "https://adventofcode.com/2020/day/7"
   ]
  },
  {
   "cell_type": "markdown",
   "metadata": {},
   "source": [
    "## Part 1\n",
    "\n",
    "Data Source: https://adventofcode.com/2020/day/7/input"
   ]
  },
  {
   "cell_type": "markdown",
   "metadata": {},
   "source": [
    "Load data:"
   ]
  },
  {
   "cell_type": "code",
   "execution_count": null,
   "metadata": {},
   "outputs": [],
   "source": [
    "with open(\"data/07.txt\") as f:\n",
    "    data = f.read().splitlines()\n",
    "    \n",
    "print(len(data))"
   ]
  },
  {
   "cell_type": "code",
   "execution_count": 2,
   "metadata": {},
   "outputs": [],
   "source": [
    "data[:10]"
   ]
  },
  {
   "cell_type": "code",
   "execution_count": 3,
   "metadata": {},
   "outputs": [],
   "source": [
    "import re\n",
    "\n",
    "data_clean = [i\n",
    "              .replace(\".\", \"\")\n",
    "              .replace(\" bags contain \", \"-\")\n",
    "              .replace(\" bags \", \"-\")\n",
    "              .replace(\" bags\", \"\")\n",
    "              .replace(\" bag \", \"\")\n",
    "              .replace(\" bag\", \"\") \n",
    "              .replace(\", \", \"-\")\n",
    "              for i in data]\n",
    "\n",
    "data_clean = [re.sub(r\"\\d\\s\", \"\", i) for i in data_clean]\n",
    "data_clean = [i.split(\"-\") for i in data_clean]"
   ]
  },
  {
   "cell_type": "code",
   "execution_count": 4,
   "metadata": {},
   "outputs": [
    {
     "name": "stdout",
     "output_type": "stream",
     "text": [
      "6\n"
     ]
    }
   ],
   "source": [
    "count = 0\n",
    "\n",
    "for bag in data_clean:\n",
    "    if \"shiny gold\" in bag[1:]:\n",
    "        count += 1\n",
    "print(count)"
   ]
  },
  {
   "cell_type": "code",
   "execution_count": 5,
   "metadata": {},
   "outputs": [],
   "source": [
    "potential_bags = [i[0] for i in data_clean if \"shiny gold\" in i[1:]]\n",
    "result_bags = potential_bags\n",
    "new_potential_bags = []"
   ]
  },
  {
   "cell_type": "code",
   "execution_count": 6,
   "metadata": {},
   "outputs": [],
   "source": [
    "count = 0\n",
    "\n",
    "while potential_bags:\n",
    "    for p in potential_bags:\n",
    "        for b in data_clean:\n",
    "            if p in b[1:]:\n",
    "                new_potential_bags.append(b[0])\n",
    "    result_bags += new_potential_bags\n",
    "    potential_bags = new_potential_bags\n",
    "    new_potential_bags = []"
   ]
  },
  {
   "cell_type": "code",
   "execution_count": 7,
   "metadata": {},
   "outputs": [
    {
     "data": {
      "text/plain": [
       "142"
      ]
     },
     "execution_count": 7,
     "metadata": {},
     "output_type": "execute_result"
    }
   ],
   "source": [
    "len(set(result_bags))"
   ]
  },
  {
   "cell_type": "markdown",
   "metadata": {},
   "source": [
    "## Part 2"
   ]
  },
  {
   "cell_type": "code",
   "execution_count": 8,
   "metadata": {},
   "outputs": [
    {
     "name": "stdout",
     "output_type": "stream",
     "text": [
      "594\n"
     ]
    }
   ],
   "source": [
    "with open(\"data/07.txt\") as f:\n",
    "    data = f.read().splitlines()\n",
    "    \n",
    "print(len(data))"
   ]
  },
  {
   "cell_type": "code",
   "execution_count": 9,
   "metadata": {},
   "outputs": [],
   "source": [
    "import re\n",
    "\n",
    "data_clean = [i\n",
    "              .replace(\".\", \"\")\n",
    "              .replace(\" bags contain \", \"-\")\n",
    "              .replace(\" bags \", \"-\")\n",
    "              .replace(\" bags\", \"\")\n",
    "              .replace(\" bag \", \"\")\n",
    "              .replace(\" bag\", \"\") \n",
    "              .replace(\", \", \"-\")\n",
    "              for i in data]\n",
    "\n",
    "data_clean = [i.split(\"-\") for i in data_clean]"
   ]
  },
  {
   "cell_type": "code",
   "execution_count": 10,
   "metadata": {},
   "outputs": [
    {
     "data": {
      "text/plain": [
       "[['posh blue', '5 plaid chartreuse', '3 plaid lime'],\n",
       " ['clear teal', '2 dotted salmon', '2 wavy red'],\n",
       " ['faded blue', '1 dotted chartreuse', '3 dim bronze'],\n",
       " ['plaid black',\n",
       "  '5 muted beige',\n",
       "  '2 pale gold',\n",
       "  '3 wavy lavender',\n",
       "  '5 dull yellow'],\n",
       " ['bright cyan', '2 vibrant teal'],\n",
       " ['clear magenta', '2 dim chartreuse'],\n",
       " ['muted crimson',\n",
       "  '1 clear violet',\n",
       "  '5 dark coral',\n",
       "  '1 pale salmon',\n",
       "  '3 light red'],\n",
       " ['dotted green', '3 muted plum'],\n",
       " ['pale crimson', '3 pale maroon', '2 mirrored tan'],\n",
       " ['shiny black', '1 wavy tomato']]"
      ]
     },
     "execution_count": 10,
     "metadata": {},
     "output_type": "execute_result"
    }
   ],
   "source": [
    "data_clean[:10]"
   ]
  },
  {
   "cell_type": "code",
   "execution_count": 11,
   "metadata": {},
   "outputs": [
    {
     "data": {
      "text/plain": [
       "['shiny gold', '5 pale brown', '2 light red', '3 drab lime']"
      ]
     },
     "execution_count": 11,
     "metadata": {},
     "output_type": "execute_result"
    }
   ],
   "source": [
    "start = [i for i in data_clean if i[0] == \"shiny gold\"][0]\n",
    "start"
   ]
  },
  {
   "cell_type": "code",
   "execution_count": 12,
   "metadata": {},
   "outputs": [
    {
     "data": {
      "text/plain": [
       "['pale brown',\n",
       " 'pale brown',\n",
       " 'pale brown',\n",
       " 'pale brown',\n",
       " 'pale brown',\n",
       " 'light red',\n",
       " 'light red',\n",
       " 'drab lime',\n",
       " 'drab lime',\n",
       " 'drab lime']"
      ]
     },
     "execution_count": 12,
     "metadata": {},
     "output_type": "execute_result"
    }
   ],
   "source": [
    "def to_extended_bag(bag):\n",
    "    extended_bag = []\n",
    "    for b in bag:\n",
    "        num = b.split(\" \")[0]\n",
    "        bags = \" \".join(b.split(\" \")[1:])\n",
    "        try:\n",
    "            for n in range(int(num)):\n",
    "                extended_bag += [bags]\n",
    "        except:\n",
    "            pass\n",
    "    return extended_bag\n",
    "    \n",
    "all_bags = to_extended_bag(start[1:])\n",
    "all_bags"
   ]
  },
  {
   "cell_type": "code",
   "execution_count": null,
   "metadata": {
    "jupyter": {
     "source_hidden": true
    }
   },
   "outputs": [],
   "source": []
  },
  {
   "cell_type": "code",
   "execution_count": 13,
   "metadata": {},
   "outputs": [],
   "source": [
    "for bag in all_bags:\n",
    "    for a in data_clean:\n",
    "        if bag == a[0]:\n",
    "            all_bags += to_extended_bag(a[1:])"
   ]
  },
  {
   "cell_type": "code",
   "execution_count": 14,
   "metadata": {},
   "outputs": [
    {
     "data": {
      "text/plain": [
       "10219"
      ]
     },
     "execution_count": 14,
     "metadata": {},
     "output_type": "execute_result"
    }
   ],
   "source": [
    "len(all_bags)"
   ]
  }
 ],
 "metadata": {
  "kernelspec": {
   "display_name": "Python 3",
   "language": "python",
   "name": "python3"
  },
  "language_info": {
   "codemirror_mode": {
    "name": "ipython",
    "version": 3
   },
   "file_extension": ".py",
   "mimetype": "text/x-python",
   "name": "python",
   "nbconvert_exporter": "python",
   "pygments_lexer": "ipython3",
   "version": "3.8.5"
  }
 },
 "nbformat": 4,
 "nbformat_minor": 4
}
