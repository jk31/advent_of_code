{
 "cells": [
  {
   "cell_type": "markdown",
   "metadata": {},
   "source": [
    "# Day 08\n",
    "\n",
    "https://adventofcode.com/2020/day/8"
   ]
  },
  {
   "cell_type": "markdown",
   "metadata": {},
   "source": [
    "## Part 1\n",
    "\n",
    "Data Source: https://adventofcode.com/2020/day/8/input"
   ]
  },
  {
   "cell_type": "markdown",
   "metadata": {},
   "source": [
    "Load data:"
   ]
  },
  {
   "cell_type": "code",
   "execution_count": null,
   "metadata": {},
   "outputs": [],
   "source": [
    "with open(\"data/08.txt\") as f:\n",
    "    data = f.read().splitlines()\n",
    "    \n",
    "print(len(data))"
   ]
  },
  {
   "cell_type": "code",
   "execution_count": 2,
   "metadata": {},
   "outputs": [
    {
     "data": {
      "text/plain": [
       "[['nop', '+456'],\n",
       " ['nop', '+38'],\n",
       " ['acc', '+9'],\n",
       " ['jmp', '+153'],\n",
       " ['acc', '+15'],\n",
       " ['nop', '+560'],\n",
       " ['jmp', '+452'],\n",
       " ['acc', '+26'],\n",
       " ['acc', '+42'],\n",
       " ['jmp', '+376']]"
      ]
     },
     "execution_count": 2,
     "metadata": {},
     "output_type": "execute_result"
    }
   ],
   "source": [
    "data_clean = [i.split(\" \") for i in data]\n",
    "data_clean[:10]"
   ]
  },
  {
   "cell_type": "code",
   "execution_count": 3,
   "metadata": {},
   "outputs": [],
   "source": [
    "for i in data_clean:\n",
    "    i[1] = int(i[1])"
   ]
  },
  {
   "cell_type": "code",
   "execution_count": 4,
   "metadata": {},
   "outputs": [
    {
     "data": {
      "text/plain": [
       "[['nop', 456],\n",
       " ['nop', 38],\n",
       " ['acc', 9],\n",
       " ['jmp', 153],\n",
       " ['acc', 15],\n",
       " ['nop', 560],\n",
       " ['jmp', 452],\n",
       " ['acc', 26],\n",
       " ['acc', 42],\n",
       " ['jmp', 376]]"
      ]
     },
     "execution_count": 4,
     "metadata": {},
     "output_type": "execute_result"
    }
   ],
   "source": [
    "data_clean[:10]"
   ]
  },
  {
   "cell_type": "code",
   "execution_count": 5,
   "metadata": {},
   "outputs": [],
   "source": [
    "instructions = [0]\n",
    "accumulator = 0\n",
    "position = 0\n",
    "\n",
    "while len(instructions) == len(set(instructions)):\n",
    "    inst = data_clean[position]\n",
    "    if inst[0] == \"acc\":\n",
    "        accumulator += inst[1]\n",
    "        position += 1\n",
    "    elif inst[0] == \"nop\":\n",
    "        position += 1\n",
    "    elif inst[0] == \"jmp\":\n",
    "        position += inst[1]\n",
    "    instructions.append(position)"
   ]
  },
  {
   "cell_type": "code",
   "execution_count": 6,
   "metadata": {},
   "outputs": [
    {
     "name": "stdout",
     "output_type": "stream",
     "text": [
      "1087\n"
     ]
    }
   ],
   "source": [
    "print(accumulator)"
   ]
  },
  {
   "cell_type": "code",
   "execution_count": 7,
   "metadata": {},
   "outputs": [
    {
     "data": {
      "text/plain": [
       "199"
      ]
     },
     "execution_count": 7,
     "metadata": {},
     "output_type": "execute_result"
    }
   ],
   "source": [
    "len(instructions)"
   ]
  },
  {
   "cell_type": "markdown",
   "metadata": {},
   "source": [
    "## Part 2"
   ]
  },
  {
   "cell_type": "code",
   "execution_count": 8,
   "metadata": {},
   "outputs": [
    {
     "name": "stdout",
     "output_type": "stream",
     "text": [
      "613\n"
     ]
    }
   ],
   "source": [
    "with open(\"data/08.txt\") as f:\n",
    "    data = f.read().splitlines()\n",
    "    \n",
    "print(len(data))"
   ]
  },
  {
   "cell_type": "code",
   "execution_count": 9,
   "metadata": {},
   "outputs": [
    {
     "data": {
      "text/plain": [
       "[['nop', '+456'],\n",
       " ['nop', '+38'],\n",
       " ['acc', '+9'],\n",
       " ['jmp', '+153'],\n",
       " ['acc', '+15'],\n",
       " ['nop', '+560'],\n",
       " ['jmp', '+452'],\n",
       " ['acc', '+26'],\n",
       " ['acc', '+42'],\n",
       " ['jmp', '+376']]"
      ]
     },
     "execution_count": 9,
     "metadata": {},
     "output_type": "execute_result"
    }
   ],
   "source": [
    "data_clean = [i.split(\" \") for i in data]\n",
    "data_clean[:10]"
   ]
  },
  {
   "cell_type": "code",
   "execution_count": 10,
   "metadata": {},
   "outputs": [],
   "source": [
    "for i in data_clean:\n",
    "    i[1] = int(i[1])"
   ]
  },
  {
   "cell_type": "code",
   "execution_count": 11,
   "metadata": {},
   "outputs": [
    {
     "data": {
      "text/plain": [
       "[['nop', 456],\n",
       " ['nop', 38],\n",
       " ['acc', 9],\n",
       " ['jmp', 153],\n",
       " ['acc', 15],\n",
       " ['nop', 560],\n",
       " ['jmp', 452],\n",
       " ['acc', 26],\n",
       " ['acc', 42],\n",
       " ['jmp', 376]]"
      ]
     },
     "execution_count": 11,
     "metadata": {},
     "output_type": "execute_result"
    }
   ],
   "source": [
    "data_clean[:10]"
   ]
  },
  {
   "cell_type": "code",
   "execution_count": 12,
   "metadata": {},
   "outputs": [],
   "source": [
    "import copy\n",
    "\n",
    "jmp_nop = [num for num, ins in enumerate(data_clean) if ins[0] in [\"jmp\", \"nop\"]]\n",
    "jmp_nop\n",
    "\n",
    "data_altered = copy.deepcopy(data_clean)\n",
    "\n",
    "instructions = [0]\n",
    "accumulator = 0\n",
    "position = 0\n",
    "\n",
    "while position != (len(data_clean) - 1):\n",
    "    \n",
    "    inst = data_altered[position]\n",
    "    \n",
    "    if inst[0] == \"acc\":\n",
    "        position += 1\n",
    "    elif inst[0] == \"nop\":\n",
    "        position += 1\n",
    "    elif inst[0] == \"jmp\":\n",
    "        position += inst[1]\n",
    "        \n",
    "    instructions.append(position)\n",
    "    \n",
    "    if len(instructions) != len(set(instructions)):\n",
    "        \n",
    "        to_change = jmp_nop.pop(0)\n",
    "        data_altered = copy.deepcopy(data_clean)\n",
    "        \n",
    "        if data_clean[to_change][0] == \"jmp\":\n",
    "            data_altered[to_change][0] = \"nop\"\n",
    "            \n",
    "        elif data_clean[to_change][0] == \"nop\":\n",
    "            data_altered[to_change][0] = \"jmp\"\n",
    "        \n",
    "        position = 0\n",
    "        instructions = [0]"
   ]
  },
  {
   "cell_type": "code",
   "execution_count": 13,
   "metadata": {},
   "outputs": [
    {
     "data": {
      "text/plain": [
       "780"
      ]
     },
     "execution_count": 13,
     "metadata": {},
     "output_type": "execute_result"
    }
   ],
   "source": [
    "sum([data_clean[i][1] for i in instructions if data_clean[i][0] == \"acc\"])"
   ]
  }
 ],
 "metadata": {
  "kernelspec": {
   "display_name": "Python 3",
   "language": "python",
   "name": "python3"
  },
  "language_info": {
   "codemirror_mode": {
    "name": "ipython",
    "version": 3
   },
   "file_extension": ".py",
   "mimetype": "text/x-python",
   "name": "python",
   "nbconvert_exporter": "python",
   "pygments_lexer": "ipython3",
   "version": "3.8.5"
  }
 },
 "nbformat": 4,
 "nbformat_minor": 4
}
