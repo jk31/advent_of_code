{
 "cells": [
  {
   "cell_type": "markdown",
   "metadata": {},
   "source": [
    "# Day 09\n",
    "\n",
    "https://adventofcode.com/2020/day/9"
   ]
  },
  {
   "cell_type": "markdown",
   "metadata": {},
   "source": [
    "## Part 1\n",
    "\n",
    "Data Source: https://adventofcode.com/2020/day/9/input"
   ]
  },
  {
   "cell_type": "markdown",
   "metadata": {},
   "source": [
    "Load data:"
   ]
  },
  {
   "cell_type": "code",
   "execution_count": 1,
   "metadata": {},
   "outputs": [
    {
     "name": "stdout",
     "output_type": "stream",
     "text": [
      "1000\n"
     ]
    }
   ],
   "source": [
    "with open(\"data/09.txt\") as f:\n",
    "    data = f.read().splitlines()\n",
    "    \n",
    "print(len(data))"
   ]
  },
  {
   "cell_type": "code",
   "execution_count": 2,
   "metadata": {},
   "outputs": [
    {
     "data": {
      "text/plain": [
       "[42, 27, 23, 19, 4, 26, 31, 29, 11, 49]"
      ]
     },
     "execution_count": 2,
     "metadata": {},
     "output_type": "execute_result"
    }
   ],
   "source": [
    "data = [int(i) for i in data]\n",
    "data[:10]"
   ]
  },
  {
   "cell_type": "code",
   "execution_count": 3,
   "metadata": {},
   "outputs": [],
   "source": [
    "def is_sum(length, numbers, x_index):\n",
    "    # list of \"length\"-many numbers before the checked numbers\n",
    "    preamble = numbers[x_index - length : x_index]\n",
    "    # all possible sums of the preamble if numbers not equal\n",
    "    possible_sums = [sum([i, j]) for i in preamble for j in preamble if i != j]\n",
    "    # check if checked number not in the sums of preamble\n",
    "    if numbers[x_index] not in possible_sums:\n",
    "        return numbers[x_index]\n",
    "    else:\n",
    "        return True"
   ]
  },
  {
   "cell_type": "code",
   "execution_count": 4,
   "metadata": {},
   "outputs": [],
   "source": [
    "def solution(length, numbers):\n",
    "    for index, num in enumerate(numbers[length:]):\n",
    "        s = is_sum(length, numbers, index + length)\n",
    "        if s != True:\n",
    "            return s"
   ]
  },
  {
   "cell_type": "code",
   "execution_count": 5,
   "metadata": {},
   "outputs": [
    {
     "data": {
      "text/plain": [
       "138879426"
      ]
     },
     "execution_count": 5,
     "metadata": {},
     "output_type": "execute_result"
    }
   ],
   "source": [
    "solution(25, data)"
   ]
  },
  {
   "cell_type": "markdown",
   "metadata": {},
   "source": [
    "## Part 2"
   ]
  },
  {
   "cell_type": "code",
   "execution_count": 6,
   "metadata": {},
   "outputs": [
    {
     "data": {
      "text/plain": [
       "138879426"
      ]
     },
     "execution_count": 6,
     "metadata": {},
     "output_type": "execute_result"
    }
   ],
   "source": [
    "goal = solution(25, data)\n",
    "goal"
   ]
  },
  {
   "cell_type": "code",
   "execution_count": 7,
   "metadata": {},
   "outputs": [
    {
     "data": {
      "text/plain": [
       "[6291980,\n",
       " 6237364,\n",
       " 5984187,\n",
       " 6615272,\n",
       " 6156670,\n",
       " 6315473,\n",
       " 6409847,\n",
       " 6542572,\n",
       " 7144670,\n",
       " 11945621,\n",
       " 8593950,\n",
       " 9606073,\n",
       " 7454040,\n",
       " 7950161,\n",
       " 8471423,\n",
       " 9382616,\n",
       " 17777507]"
      ]
     },
     "execution_count": 7,
     "metadata": {},
     "output_type": "execute_result"
    }
   ],
   "source": [
    "def find_contiguous(goal, numbers):\n",
    "    c = []\n",
    "    \n",
    "    for index_i, i in enumerate(numbers):\n",
    "        for index_j, j in enumerate(numbers[index_i:]):\n",
    "            c.append(j)\n",
    "            if sum(c) == goal:\n",
    "                return c\n",
    "            elif sum(c) > goal:\n",
    "                c = []\n",
    "                break\n",
    "                \n",
    "sol = find_contiguous(goal, data)\n",
    "sol"
   ]
  },
  {
   "cell_type": "code",
   "execution_count": 8,
   "metadata": {},
   "outputs": [
    {
     "data": {
      "text/plain": [
       "23761694"
      ]
     },
     "execution_count": 8,
     "metadata": {},
     "output_type": "execute_result"
    }
   ],
   "source": [
    "min(sol) + max(sol)"
   ]
  }
 ],
 "metadata": {
  "kernelspec": {
   "display_name": "Python 3",
   "language": "python",
   "name": "python3"
  },
  "language_info": {
   "codemirror_mode": {
    "name": "ipython",
    "version": 3
   },
   "file_extension": ".py",
   "mimetype": "text/x-python",
   "name": "python",
   "nbconvert_exporter": "python",
   "pygments_lexer": "ipython3",
   "version": "3.8.5"
  }
 },
 "nbformat": 4,
 "nbformat_minor": 4
}
