{
 "cells": [
  {
   "cell_type": "markdown",
   "metadata": {},
   "source": [
    "# Part 1"
   ]
  },
  {
   "cell_type": "code",
   "execution_count": 1,
   "metadata": {},
   "outputs": [
    {
     "name": "stdout",
     "output_type": "stream",
     "text": [
      "1000\n"
     ]
    }
   ],
   "source": [
    "with open(\"data/02.txt\") as f:\n",
    "    data = f.read().splitlines()\n",
    "    \n",
    "print(len(data))"
   ]
  },
  {
   "cell_type": "code",
   "execution_count": 8,
   "metadata": {},
   "outputs": [
    {
     "name": "stdout",
     "output_type": "stream",
     "text": [
      "1635930\n"
     ]
    }
   ],
   "source": [
    "horizontal = 0\n",
    "depth = 0\n",
    "for i in data:\n",
    "    direction, x = i.split(' ')\n",
    "    if direction == 'forward':\n",
    "        horizontal += int(x)\n",
    "    elif direction == 'up':\n",
    "        depth -= int(x)\n",
    "    elif direction == 'down':\n",
    "        depth += int(x)\n",
    "\n",
    "print(horizontal * depth)"
   ]
  },
  {
   "cell_type": "markdown",
   "metadata": {},
   "source": [
    "# Part 2"
   ]
  },
  {
   "cell_type": "code",
   "execution_count": 9,
   "metadata": {},
   "outputs": [
    {
     "name": "stdout",
     "output_type": "stream",
     "text": [
      "1781819478\n"
     ]
    }
   ],
   "source": [
    "horizontal = 0\n",
    "depth = 0\n",
    "aim = 0\n",
    "for i in data:\n",
    "    direction, x = i.split(' ')\n",
    "    if direction == 'forward':\n",
    "        horizontal += int(x)\n",
    "        depth += aim * int(x)\n",
    "    elif direction == 'up':\n",
    "        aim -= int(x)\n",
    "    elif direction == 'down':\n",
    "        aim += int(x)\n",
    "\n",
    "print(horizontal * depth)"
   ]
  }
 ],
 "metadata": {
  "interpreter": {
   "hash": "e3632000dee0926683cfda982448a70373900bc154fe3b29178f931cd76c09c5"
  },
  "kernelspec": {
   "display_name": "Python 3.10.0 64-bit",
   "language": "python",
   "name": "python3"
  },
  "language_info": {
   "codemirror_mode": {
    "name": "ipython",
    "version": 3
   },
   "file_extension": ".py",
   "mimetype": "text/x-python",
   "name": "python",
   "nbconvert_exporter": "python",
   "pygments_lexer": "ipython3",
   "version": "3.10.0"
  },
  "orig_nbformat": 4
 },
 "nbformat": 4,
 "nbformat_minor": 2
}
